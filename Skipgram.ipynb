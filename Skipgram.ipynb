{
  "nbformat": 4,
  "nbformat_minor": 0,
  "metadata": {
    "colab": {
      "name": "Copy of Copy of word2vec",
      "version": "0.3.2",
      "provenance": [],
      "collapsed_sections": []
    },
    "kernelspec": {
      "name": "python3",
      "display_name": "Python 3"
    },
    "accelerator": "TPU"
  },
  "cells": [
    {
      "cell_type": "code",
      "metadata": {
        "id": "yAZ0ZwecUldt",
        "colab_type": "code",
        "colab": {}
      },
      "source": [
        "import random\n",
        "import collections\n",
        "import math\n",
        "import os\n",
        "import zipfile\n",
        "import time\n",
        "import re\n",
        "import numpy as np\n",
        "import tensorflow as tf \n",
        "from matplotlib import pylab\n",
        "%matplotlib inline\n",
        "from six.moves import range\n",
        "from six.moves.urllib.request import urlretrieve"
      ],
      "execution_count": 0,
      "outputs": []
    },
    {
      "cell_type": "code",
      "metadata": {
        "id": "B9CaPST5Uug3",
        "colab_type": "code",
        "colab": {}
      },
      "source": [
        "dataset_link = 'http://mattmahoney.net/dc/'\n",
        "zip_file = 'text8.zip'"
      ],
      "execution_count": 0,
      "outputs": []
    },
    {
      "cell_type": "code",
      "metadata": {
        "id": "Czt2-4OdUxcd",
        "colab_type": "code",
        "colab": {}
      },
      "source": [
        "def data_download(zip_file):\n",
        "\n",
        "  if not os.path.exists(zip_file):\n",
        "    zip_file, _ = urlretrieve(dataset_link + zip_file, zip_file)\n",
        "    print('File downloaded successfully!')\n",
        "    \n",
        "    return None"
      ],
      "execution_count": 0,
      "outputs": []
    },
    {
      "cell_type": "code",
      "metadata": {
        "id": "S1-0R--FU94d",
        "colab_type": "code",
        "colab": {}
      },
      "source": [
        "data_download(zip_file)"
      ],
      "execution_count": 0,
      "outputs": []
    },
    {
      "cell_type": "code",
      "metadata": {
        "id": "LD1kjuoMVJV2",
        "colab_type": "code",
        "outputId": "92549aba-af1f-4bc6-dc06-e1f987e4c855",
        "colab": {
          "base_uri": "https://localhost:8080/",
          "height": 35
        }
      },
      "source": [
        "!ls"
      ],
      "execution_count": 0,
      "outputs": [
        {
          "output_type": "stream",
          "text": [
            "dataset  sample_data  text8.zip\n"
          ],
          "name": "stdout"
        }
      ]
    },
    {
      "cell_type": "code",
      "metadata": {
        "id": "eIBzdxmAVaIu",
        "colab_type": "code",
        "colab": {}
      },
      "source": [
        "extracted_folder = 'dataset'\n",
        "if not os.path.isdir(extracted_folder):\n",
        "  \n",
        "  with zipfile.ZipFile(zip_file) as zf:\n",
        "    zf.extractall(extracted_folder)\n",
        "    \n",
        "with open('dataset/text8') as ft_ :\n",
        "  full_text = ft_.read()"
      ],
      "execution_count": 0,
      "outputs": []
    },
    {
      "cell_type": "code",
      "metadata": {
        "id": "HTLt46JOVrPN",
        "colab_type": "code",
        "colab": {}
      },
      "source": [
        "def text_preprocessing(text):\n",
        "  text=text.lower()\n",
        "  text=text.replace('.','<period>')\n",
        "  text=text.replace(',','<comma>')\n",
        "  text=text.replace('\"','<quotation>')\n",
        "  text = text.replace(';', ' <semicolon> ')\n",
        "  text = text.replace('!', ' <exclamation> ')\n",
        "  text = text.replace('?', ' <question> ')\n",
        "  text = text.replace('(', ' <paren_l> ')\n",
        "  text = text.replace(')', ' <paren_r> ')\n",
        "  text = text.replace('--', ' <hyphen> ')\n",
        "  text = text.replace(':', ' <colon> ')\n",
        "  text_tokens = text.split()\n",
        "  return text_tokens"
      ],
      "execution_count": 0,
      "outputs": []
    },
    {
      "cell_type": "code",
      "metadata": {
        "id": "kDY-Fx-KV75O",
        "colab_type": "code",
        "outputId": "6cd1426c-372e-40a0-dd15-6757f6d163ac",
        "colab": {
          "base_uri": "https://localhost:8080/",
          "height": 55
        }
      },
      "source": [
        "full_text[:200]"
      ],
      "execution_count": 0,
      "outputs": [
        {
          "output_type": "execute_result",
          "data": {
            "text/plain": [
              "' anarchism originated as a term of abuse first used against early working class radicals including the diggers of the english revolution and the sans culottes of the french revolution whilst the term '"
            ]
          },
          "metadata": {
            "tags": []
          },
          "execution_count": 8
        }
      ]
    },
    {
      "cell_type": "code",
      "metadata": {
        "id": "F7P8ZBEnXx9n",
        "colab_type": "code",
        "colab": {}
      },
      "source": [
        "text_tokens=text_preprocessing(full_text)"
      ],
      "execution_count": 0,
      "outputs": []
    },
    {
      "cell_type": "code",
      "metadata": {
        "id": "rs6ltN8L2mnB",
        "colab_type": "code",
        "outputId": "bf2b70dc-6662-47bb-afec-72e3c1364588",
        "colab": {
          "base_uri": "https://localhost:8080/",
          "height": 1000
        }
      },
      "source": [
        "\n",
        "text_tokens[:100]"
      ],
      "execution_count": 0,
      "outputs": [
        {
          "output_type": "execute_result",
          "data": {
            "text/plain": [
              "['anarchism',\n",
              " 'originated',\n",
              " 'as',\n",
              " 'a',\n",
              " 'term',\n",
              " 'of',\n",
              " 'abuse',\n",
              " 'first',\n",
              " 'used',\n",
              " 'against',\n",
              " 'early',\n",
              " 'working',\n",
              " 'class',\n",
              " 'radicals',\n",
              " 'including',\n",
              " 'the',\n",
              " 'diggers',\n",
              " 'of',\n",
              " 'the',\n",
              " 'english',\n",
              " 'revolution',\n",
              " 'and',\n",
              " 'the',\n",
              " 'sans',\n",
              " 'culottes',\n",
              " 'of',\n",
              " 'the',\n",
              " 'french',\n",
              " 'revolution',\n",
              " 'whilst',\n",
              " 'the',\n",
              " 'term',\n",
              " 'is',\n",
              " 'still',\n",
              " 'used',\n",
              " 'in',\n",
              " 'a',\n",
              " 'pejorative',\n",
              " 'way',\n",
              " 'to',\n",
              " 'describe',\n",
              " 'any',\n",
              " 'act',\n",
              " 'that',\n",
              " 'used',\n",
              " 'violent',\n",
              " 'means',\n",
              " 'to',\n",
              " 'destroy',\n",
              " 'the',\n",
              " 'organization',\n",
              " 'of',\n",
              " 'society',\n",
              " 'it',\n",
              " 'has',\n",
              " 'also',\n",
              " 'been',\n",
              " 'taken',\n",
              " 'up',\n",
              " 'as',\n",
              " 'a',\n",
              " 'positive',\n",
              " 'label',\n",
              " 'by',\n",
              " 'self',\n",
              " 'defined',\n",
              " 'anarchists',\n",
              " 'the',\n",
              " 'word',\n",
              " 'anarchism',\n",
              " 'is',\n",
              " 'derived',\n",
              " 'from',\n",
              " 'the',\n",
              " 'greek',\n",
              " 'without',\n",
              " 'archons',\n",
              " 'ruler',\n",
              " 'chief',\n",
              " 'king',\n",
              " 'anarchism',\n",
              " 'as',\n",
              " 'a',\n",
              " 'political',\n",
              " 'philosophy',\n",
              " 'is',\n",
              " 'the',\n",
              " 'belief',\n",
              " 'that',\n",
              " 'rulers',\n",
              " 'are',\n",
              " 'unnecessary',\n",
              " 'and',\n",
              " 'should',\n",
              " 'be',\n",
              " 'abolished',\n",
              " 'although',\n",
              " 'there',\n",
              " 'are',\n",
              " 'differing']"
            ]
          },
          "metadata": {
            "tags": []
          },
          "execution_count": 10
        }
      ]
    },
    {
      "cell_type": "code",
      "metadata": {
        "id": "eHMBk0_1ZR-n",
        "colab_type": "code",
        "outputId": "e68aac97-5365-41d1-fdf2-667a4e2fb198",
        "colab": {
          "base_uri": "https://localhost:8080/",
          "height": 35
        }
      },
      "source": [
        "len(text_tokens)"
      ],
      "execution_count": 0,
      "outputs": [
        {
          "output_type": "execute_result",
          "data": {
            "text/plain": [
              "17005207"
            ]
          },
          "metadata": {
            "tags": []
          },
          "execution_count": 11
        }
      ]
    },
    {
      "cell_type": "code",
      "metadata": {
        "id": "3XoQ1lWfZUjn",
        "colab_type": "code",
        "outputId": "0e0cd2f4-f129-4f2e-b9ca-2b0e2b25d7cd",
        "colab": {
          "base_uri": "https://localhost:8080/",
          "height": 35
        }
      },
      "source": [
        "len(text_tokens)"
      ],
      "execution_count": 0,
      "outputs": [
        {
          "output_type": "execute_result",
          "data": {
            "text/plain": [
              "17005207"
            ]
          },
          "metadata": {
            "tags": []
          },
          "execution_count": 12
        }
      ]
    },
    {
      "cell_type": "code",
      "metadata": {
        "id": "kPNNtyyTZ0hv",
        "colab_type": "code",
        "colab": {}
      },
      "source": [
        "word_count=collections.Counter(text_tokens)"
      ],
      "execution_count": 0,
      "outputs": []
    },
    {
      "cell_type": "code",
      "metadata": {
        "id": "DvUb1HOccjJR",
        "colab_type": "code",
        "outputId": "d381da33-619b-42f8-a6cc-be3274107959",
        "colab": {
          "base_uri": "https://localhost:8080/",
          "height": 35
        }
      },
      "source": [
        "len(word_count)"
      ],
      "execution_count": 0,
      "outputs": [
        {
          "output_type": "execute_result",
          "data": {
            "text/plain": [
              "253854"
            ]
          },
          "metadata": {
            "tags": []
          },
          "execution_count": 14
        }
      ]
    },
    {
      "cell_type": "code",
      "metadata": {
        "id": "3PEAQ_W1arto",
        "colab_type": "code",
        "outputId": "68d171fa-ef1c-4356-cffe-5e5984619720",
        "colab": {
          "base_uri": "https://localhost:8080/",
          "height": 35
        }
      },
      "source": [
        "sorted(word_count,key=word_count.get,reverse=True)[:5]  # as we can see stop words comes first"
      ],
      "execution_count": 0,
      "outputs": [
        {
          "output_type": "execute_result",
          "data": {
            "text/plain": [
              "['the', 'of', 'and', 'one', 'in']"
            ]
          },
          "metadata": {
            "tags": []
          },
          "execution_count": 15
        }
      ]
    },
    {
      "cell_type": "code",
      "metadata": {
        "id": "9836FXzbaIwQ",
        "colab_type": "code",
        "colab": {}
      },
      "source": [
        "#Removing words with count <7      # Sub Sampling \n",
        "shortlisted_words=[w for w in text_tokens if word_count[w]>7]"
      ],
      "execution_count": 0,
      "outputs": []
    },
    {
      "cell_type": "code",
      "metadata": {
        "id": "ZD15icKvvW9q",
        "colab_type": "code",
        "outputId": "bb963c0d-3201-420c-c7b2-ed7ead11900c",
        "colab": {
          "base_uri": "https://localhost:8080/",
          "height": 35
        }
      },
      "source": [
        "len(word_count)"
      ],
      "execution_count": 0,
      "outputs": [
        {
          "output_type": "execute_result",
          "data": {
            "text/plain": [
              "253854"
            ]
          },
          "metadata": {
            "tags": []
          },
          "execution_count": 17
        }
      ]
    },
    {
      "cell_type": "code",
      "metadata": {
        "id": "rg00YlXpaQWX",
        "colab_type": "code",
        "outputId": "c3bd3bdf-e202-42c5-b10a-61188cbe015c",
        "colab": {
          "base_uri": "https://localhost:8080/",
          "height": 35
        }
      },
      "source": [
        "len(shortlisted_words)"
      ],
      "execution_count": 0,
      "outputs": [
        {
          "output_type": "execute_result",
          "data": {
            "text/plain": [
              "16616688"
            ]
          },
          "metadata": {
            "tags": []
          },
          "execution_count": 18
        }
      ]
    },
    {
      "cell_type": "code",
      "metadata": {
        "id": "t_AzLeUKamNX",
        "colab_type": "code",
        "outputId": "7b0c44d0-94f2-428f-d8bc-fc9ca0b2afa1",
        "colab": {
          "base_uri": "https://localhost:8080/",
          "height": 35
        }
      },
      "source": [
        "sorted(word_count,key=word_count.get,reverse=True)[:5]"
      ],
      "execution_count": 0,
      "outputs": [
        {
          "output_type": "execute_result",
          "data": {
            "text/plain": [
              "['the', 'of', 'and', 'one', 'in']"
            ]
          },
          "metadata": {
            "tags": []
          },
          "execution_count": 19
        }
      ]
    },
    {
      "cell_type": "code",
      "metadata": {
        "id": "gpow4W2qa3Zf",
        "colab_type": "code",
        "colab": {}
      },
      "source": [
        "## To process the unique words present in the corpus, we have made a\n",
        "# set of the words, followed by their frequency in the training dataset. The\n",
        "# following function creates a dictionary and converts words to integers\n",
        "# and, conversely, integers to words. The most frequent word is assigned the\n",
        "# least value, 0, and in similar fashion, numbers are assigned to other words.\n",
        "# Conversion of words to integers has been stored in a separate list.###"
      ],
      "execution_count": 0,
      "outputs": []
    },
    {
      "cell_type": "code",
      "metadata": {
        "id": "tLU9fafVvOvK",
        "colab_type": "code",
        "colab": {}
      },
      "source": [
        "word2index={x[0]:j for j,x in enumerate(sorted(word_count.items(),key=lambda x:x[1],reverse=True)[:5000])}"
      ],
      "execution_count": 0,
      "outputs": []
    },
    {
      "cell_type": "code",
      "metadata": {
        "id": "L2hW3LcGig6D",
        "colab_type": "code",
        "outputId": "b4fae31a-b161-42c6-808c-b311c6dfa3db",
        "colab": {
          "base_uri": "https://localhost:8080/",
          "height": 35
        }
      },
      "source": [
        "len(word2index)"
      ],
      "execution_count": 0,
      "outputs": [
        {
          "output_type": "execute_result",
          "data": {
            "text/plain": [
              "5000"
            ]
          },
          "metadata": {
            "tags": []
          },
          "execution_count": 23
        }
      ]
    },
    {
      "cell_type": "code",
      "metadata": {
        "id": "blQ8o4Rh2N2l",
        "colab_type": "code",
        "outputId": "63d00447-3c0b-4aac-9ef2-140f973b2db3",
        "colab": {
          "base_uri": "https://localhost:8080/",
          "height": 35
        }
      },
      "source": [
        "len(word_count)"
      ],
      "execution_count": 0,
      "outputs": [
        {
          "output_type": "execute_result",
          "data": {
            "text/plain": [
              "253854"
            ]
          },
          "metadata": {
            "tags": []
          },
          "execution_count": 24
        }
      ]
    },
    {
      "cell_type": "code",
      "metadata": {
        "id": "X5H7-jCkihPv",
        "colab_type": "code",
        "colab": {}
      },
      "source": [
        ""
      ],
      "execution_count": 0,
      "outputs": []
    },
    {
      "cell_type": "code",
      "metadata": {
        "id": "qEnmP-tfijrs",
        "colab_type": "code",
        "colab": {}
      },
      "source": [
        "a={x[0]:x[1] for j,x in enumerate(sorted(word_count.items(),key=lambda x:x[1],reverse=True)[:5000])}"
      ],
      "execution_count": 0,
      "outputs": []
    },
    {
      "cell_type": "code",
      "metadata": {
        "id": "28wo3d8GUvVK",
        "colab_type": "code",
        "outputId": "d285266a-9fca-4bf9-83c8-c4f27512a35e",
        "colab": {
          "base_uri": "https://localhost:8080/",
          "height": 35
        }
      },
      "source": [
        "sum([a[i] for i in a])/len(shortlisted_words) #85 % of  data is present"
      ],
      "execution_count": 0,
      "outputs": [
        {
          "output_type": "execute_result",
          "data": {
            "text/plain": [
              "0.8587794390795567"
            ]
          },
          "metadata": {
            "tags": []
          },
          "execution_count": 26
        }
      ]
    },
    {
      "cell_type": "code",
      "metadata": {
        "id": "p-mZZ6ycbMHv",
        "colab_type": "code",
        "colab": {}
      },
      "source": [
        "# making new dictionary of new shortlisted words\n",
        "\n",
        "def dict_create(shotlisted_words):\n",
        "  counts1=collections.Counter(shotlisted_words)\n",
        "  vocabulary=sorted(counts1,key=counts1.get,reverse=True)\n",
        "  rev_dict={i:j for i,j in enumerate(vocabulary)}\n",
        "  dict2={j:i for i,j in enumerate(vocabulary)}\n",
        "  return rev_dict,dict2"
      ],
      "execution_count": 0,
      "outputs": []
    },
    {
      "cell_type": "code",
      "metadata": {
        "id": "eFA5pkd3fAix",
        "colab_type": "code",
        "colab": {}
      },
      "source": [
        "index2word,word2index=dict_create(shortlisted_words)  # ranking each word on basis of its frequency with higher frequency are rated above"
      ],
      "execution_count": 0,
      "outputs": []
    },
    {
      "cell_type": "code",
      "metadata": {
        "id": "fCu7xkL62pPc",
        "colab_type": "code",
        "outputId": "19d16204-da2c-4239-b7d0-605b107bfcbc",
        "colab": {
          "base_uri": "https://localhost:8080/",
          "height": 35
        }
      },
      "source": [
        "len(index2word)"
      ],
      "execution_count": 0,
      "outputs": [
        {
          "output_type": "execute_result",
          "data": {
            "text/plain": [
              "53721"
            ]
          },
          "metadata": {
            "tags": []
          },
          "execution_count": 30
        }
      ]
    },
    {
      "cell_type": "code",
      "metadata": {
        "id": "RZIXuoPLfG9J",
        "colab_type": "code",
        "colab": {}
      },
      "source": [
        "## Subsampling :- Approach to deal with the words with less frequency in the text based on probability threshold we will decide whether to keep stopwords or no"
      ],
      "execution_count": 0,
      "outputs": []
    },
    {
      "cell_type": "code",
      "metadata": {
        "id": "w5yQ9Uv1iUbi",
        "colab_type": "code",
        "colab": {}
      },
      "source": [
        "### \"\"\"Creating the threshold and performing the subsampling\"\"\""
      ],
      "execution_count": 0,
      "outputs": []
    },
    {
      "cell_type": "code",
      "metadata": {
        "id": "1zzYRVkpmzrU",
        "colab_type": "code",
        "colab": {}
      },
      "source": [
        "index_corpus=[word2index[w] for w in shortlisted_words] #converting text corpus to indexes to be fed into NN"
      ],
      "execution_count": 0,
      "outputs": []
    },
    {
      "cell_type": "code",
      "metadata": {
        "id": "Nr_oKjwE3vn5",
        "colab_type": "code",
        "colab": {}
      },
      "source": [
        "index_corpus[:10]"
      ],
      "execution_count": 0,
      "outputs": []
    },
    {
      "cell_type": "code",
      "metadata": {
        "id": "O_Wlco_Kx7A_",
        "colab_type": "code",
        "colab": {}
      },
      "source": [
        ""
      ],
      "execution_count": 0,
      "outputs": []
    },
    {
      "cell_type": "code",
      "metadata": {
        "id": "ZzlaszFD3nTx",
        "colab_type": "code",
        "colab": {}
      },
      "source": [
        "c1=collections.Counter(shortlisted_words)"
      ],
      "execution_count": 0,
      "outputs": []
    },
    {
      "cell_type": "code",
      "metadata": {
        "id": "TJRBmxU-P_ph",
        "colab_type": "code",
        "outputId": "7e503c3b-cf93-484b-9ce6-34f9cc080885",
        "colab": {
          "base_uri": "https://localhost:8080/",
          "height": 35
        }
      },
      "source": [
        "len(index_corpus)"
      ],
      "execution_count": 0,
      "outputs": [
        {
          "output_type": "execute_result",
          "data": {
            "text/plain": [
              "16616688"
            ]
          },
          "metadata": {
            "tags": []
          },
          "execution_count": 32
        }
      ]
    },
    {
      "cell_type": "code",
      "metadata": {
        "id": "srLumd_Nmfuj",
        "colab_type": "code",
        "outputId": "1be6d4e3-1843-495d-9033-a7abc905f2f3",
        "colab": {
          "base_uri": "https://localhost:8080/",
          "height": 35
        }
      },
      "source": [
        "len(index_corpus)\n",
        "print(len(c1))#before feeding the data into model we need to convert data into index sequence"
      ],
      "execution_count": 0,
      "outputs": [
        {
          "output_type": "stream",
          "text": [
            "53721\n"
          ],
          "name": "stdout"
        }
      ]
    },
    {
      "cell_type": "code",
      "metadata": {
        "id": "nMLDkPn329bM",
        "colab_type": "code",
        "colab": {}
      },
      "source": [
        ""
      ],
      "execution_count": 0,
      "outputs": []
    },
    {
      "cell_type": "code",
      "metadata": {
        "id": "e79jNWrXMy3n",
        "colab_type": "code",
        "colab": {}
      },
      "source": [
        "index_corpus[:100]"
      ],
      "execution_count": 0,
      "outputs": []
    },
    {
      "cell_type": "code",
      "metadata": {
        "id": "6rHykp3tnHr7",
        "colab_type": "code",
        "colab": {}
      },
      "source": [
        "thresh=0.00005\n",
        "wordindex_counts=collections.Counter(index_corpus)"
      ],
      "execution_count": 0,
      "outputs": []
    },
    {
      "cell_type": "code",
      "metadata": {
        "id": "n1rzynJMnVUT",
        "colab_type": "code",
        "outputId": "f868d952-ca20-4d9d-f162-6ba0c76e3b79",
        "colab": {
          "base_uri": "https://localhost:8080/",
          "height": 35
        }
      },
      "source": [
        "total_counts=len(index_corpus) #total number of unique words \n",
        "total_counts"
      ],
      "execution_count": 0,
      "outputs": [
        {
          "output_type": "execute_result",
          "data": {
            "text/plain": [
              "16616688"
            ]
          },
          "metadata": {
            "tags": []
          },
          "execution_count": 35
        }
      ]
    },
    {
      "cell_type": "code",
      "metadata": {
        "id": "Julrk0Oxn7FM",
        "colab_type": "code",
        "outputId": "89134431-4715-4653-d546-fe1ba04fcc6f",
        "colab": {
          "base_uri": "https://localhost:8080/",
          "height": 1000
        }
      },
      "source": [
        "wordindex_counts    #dictionary of rankindex :counts  "
      ],
      "execution_count": 0,
      "outputs": [
        {
          "output_type": "execute_result",
          "data": {
            "text/plain": [
              "Counter({5233: 303,\n",
              "         3080: 572,\n",
              "         11: 131815,\n",
              "         5: 325873,\n",
              "         194: 7219,\n",
              "         1: 593677,\n",
              "         3133: 563,\n",
              "         45: 28810,\n",
              "         58: 22737,\n",
              "         155: 8432,\n",
              "         127: 10172,\n",
              "         741: 2271,\n",
              "         476: 3412,\n",
              "         10571: 116,\n",
              "         133: 9633,\n",
              "         0: 1061396,\n",
              "         27349: 25,\n",
              "         102: 11868,\n",
              "         854: 2029,\n",
              "         2: 416629,\n",
              "         15067: 68,\n",
              "         150: 8736,\n",
              "         3580: 481,\n",
              "         10: 183153,\n",
              "         190: 7378,\n",
              "         4: 372201,\n",
              "         10712: 114,\n",
              "         214: 6433,\n",
              "         6: 316376,\n",
              "         1324: 1352,\n",
              "         104: 11803,\n",
              "         454: 3502,\n",
              "         19: 109510,\n",
              "         2731: 653,\n",
              "         362: 4165,\n",
              "         3672: 466,\n",
              "         708: 2374,\n",
              "         371: 4067,\n",
              "         26: 73334,\n",
              "         40: 37866,\n",
              "         36: 44358,\n",
              "         53: 25383,\n",
              "         539: 3043,\n",
              "         97: 12445,\n",
              "         1423: 1254,\n",
              "         2757: 646,\n",
              "         18: 111831,\n",
              "         567: 2879,\n",
              "         686: 2449,\n",
              "         7088: 203,\n",
              "         247: 5678,\n",
              "         1052: 1701,\n",
              "         27: 72871,\n",
              "         320: 4577,\n",
              "         248: 5661,\n",
              "         44611: 10,\n",
              "         2877: 617,\n",
              "         792: 2130,\n",
              "         186: 7456,\n",
              "         200: 6970,\n",
              "         602: 2758,\n",
              "         1134: 1572,\n",
              "         2621: 687,\n",
              "         25: 76527,\n",
              "         8983: 146,\n",
              "         279: 5113,\n",
              "         31: 61281,\n",
              "         4147: 399,\n",
              "         141: 9286,\n",
              "         59: 22707,\n",
              "         6437: 231,\n",
              "         4186: 395,\n",
              "         153: 8581,\n",
              "         32: 58832,\n",
              "         1137: 1570,\n",
              "         447: 3536,\n",
              "         344: 4307,\n",
              "         1818: 1002,\n",
              "         4860: 331,\n",
              "         6753: 216,\n",
              "         7573: 185,\n",
              "         1774: 1021,\n",
              "         566: 2882,\n",
              "         93: 12904,\n",
              "         11064: 109,\n",
              "         51: 25563,\n",
              "         89: 14011,\n",
              "         270: 5221,\n",
              "         37: 44033,\n",
              "         5948: 257,\n",
              "         4861: 331,\n",
              "         20299: 42,\n",
              "         28: 68945,\n",
              "         41: 35358,\n",
              "         317: 4605,\n",
              "         25636: 28,\n",
              "         527: 3103,\n",
              "         258: 5345,\n",
              "         1206: 1483,\n",
              "         1576: 1139,\n",
              "         15200: 67,\n",
              "         332: 4435,\n",
              "         764: 2215,\n",
              "         160: 8244,\n",
              "         406: 3768,\n",
              "         5690: 272,\n",
              "         755: 2231,\n",
              "         4105: 404,\n",
              "         1131: 1579,\n",
              "         4331: 381,\n",
              "         1536: 1165,\n",
              "         8117: 169,\n",
              "         98: 12363,\n",
              "         1407: 1265,\n",
              "         2033: 895,\n",
              "         8174: 167,\n",
              "         46: 28553,\n",
              "         693: 2404,\n",
              "         4148: 399,\n",
              "         246: 5684,\n",
              "         76: 15861,\n",
              "         948: 1870,\n",
              "         78: 15574,\n",
              "         310: 4727,\n",
              "         30: 61925,\n",
              "         4778: 337,\n",
              "         507: 3242,\n",
              "         139: 9388,\n",
              "         2312: 781,\n",
              "         3553: 485,\n",
              "         364: 4125,\n",
              "         23: 95603,\n",
              "         1821: 999,\n",
              "         1902: 956,\n",
              "         8399: 160,\n",
              "         753: 2241,\n",
              "         1732: 1041,\n",
              "         8040: 171,\n",
              "         24172: 31,\n",
              "         275: 5160,\n",
              "         1693: 1066,\n",
              "         151: 8700,\n",
              "         1032: 1726,\n",
              "         95: 12623,\n",
              "         224: 6184,\n",
              "         17: 112807,\n",
              "         1813: 1003,\n",
              "         24: 91250,\n",
              "         1556: 1153,\n",
              "         8118: 169,\n",
              "         1465: 1224,\n",
              "         12743: 88,\n",
              "         6130: 247,\n",
              "         4187: 395,\n",
              "         21148: 39,\n",
              "         2427: 745,\n",
              "         39: 39086,\n",
              "         16455: 59,\n",
              "         7239: 197,\n",
              "         861: 2018,\n",
              "         1193: 1492,\n",
              "         10207: 122,\n",
              "         2514: 716,\n",
              "         15068: 68,\n",
              "         187: 7435,\n",
              "         48: 28100,\n",
              "         1123: 1592,\n",
              "         912: 1924,\n",
              "         1049: 1703,\n",
              "         467: 3437,\n",
              "         12297: 93,\n",
              "         3055: 577,\n",
              "         12060: 96,\n",
              "         734: 2290,\n",
              "         6598: 223,\n",
              "         14622: 71,\n",
              "         450: 3523,\n",
              "         485: 3365,\n",
              "         198: 7043,\n",
              "         295: 4939,\n",
              "         20027: 43,\n",
              "         20300: 42,\n",
              "         300: 4884,\n",
              "         16456: 59,\n",
              "         30106: 21,\n",
              "         44: 29567,\n",
              "         3832: 440,\n",
              "         3807: 444,\n",
              "         3412: 505,\n",
              "         1776: 1020,\n",
              "         625: 2693,\n",
              "         13141: 84,\n",
              "         3: 411764,\n",
              "         21: 102145,\n",
              "         90: 13380,\n",
              "         122: 10550,\n",
              "         284: 5094,\n",
              "         243: 5761,\n",
              "         232: 5985,\n",
              "         436: 3588,\n",
              "         26184: 27,\n",
              "         173: 7790,\n",
              "         7699: 181,\n",
              "         2534: 710,\n",
              "         29: 62603,\n",
              "         289: 5010,\n",
              "         4308: 383,\n",
              "         49: 26229,\n",
              "         117: 10691,\n",
              "         359: 4178,\n",
              "         384: 3962,\n",
              "         242: 5778,\n",
              "         96: 12560,\n",
              "         5234: 303,\n",
              "         34: 54576,\n",
              "         331: 4446,\n",
              "         2723: 655,\n",
              "         838: 2059,\n",
              "         1376: 1297,\n",
              "         8761: 151,\n",
              "         6470: 229,\n",
              "         3243: 537,\n",
              "         551: 2965,\n",
              "         42432: 11,\n",
              "         435: 3595,\n",
              "         84: 14578,\n",
              "         64: 20412,\n",
              "         462: 3443,\n",
              "         83: 14629,\n",
              "         47: 28161,\n",
              "         839: 2057,\n",
              "         1014: 1752,\n",
              "         1043: 1714,\n",
              "         42: 32433,\n",
              "         69: 18807,\n",
              "         936: 1895,\n",
              "         14920: 69,\n",
              "         4571: 356,\n",
              "         164: 8002,\n",
              "         40561: 12,\n",
              "         11815: 99,\n",
              "         22892: 34,\n",
              "         259: 5343,\n",
              "         1225: 1459,\n",
              "         22: 99683,\n",
              "         7: 264975,\n",
              "         16: 114775,\n",
              "         99: 12347,\n",
              "         35: 53573,\n",
              "         628: 2685,\n",
              "         2662: 674,\n",
              "         63: 20477,\n",
              "         33: 54788,\n",
              "         75: 16155,\n",
              "         687: 2444,\n",
              "         14777: 70,\n",
              "         4044: 412,\n",
              "         817: 2098,\n",
              "         917: 1918,\n",
              "         101: 11931,\n",
              "         6054: 251,\n",
              "         662: 2525,\n",
              "         701: 2389,\n",
              "         4218: 392,\n",
              "         1289: 1383,\n",
              "         94: 12722,\n",
              "         5212: 304,\n",
              "         8: 250430,\n",
              "         5348: 295,\n",
              "         334: 4430,\n",
              "         17194: 55,\n",
              "         2434: 741,\n",
              "         1293: 1381,\n",
              "         215: 6419,\n",
              "         55: 24096,\n",
              "         116: 10971,\n",
              "         38: 39712,\n",
              "         197: 7110,\n",
              "         181: 7585,\n",
              "         529: 3098,\n",
              "         1834: 988,\n",
              "         1912: 952,\n",
              "         228: 6141,\n",
              "         733: 2296,\n",
              "         2399: 753,\n",
              "         86: 14437,\n",
              "         1073: 1664,\n",
              "         14022: 76,\n",
              "         30107: 21,\n",
              "         12061: 96,\n",
              "         50: 26223,\n",
              "         2419: 747,\n",
              "         616: 2723,\n",
              "         8716: 152,\n",
              "         2935: 606,\n",
              "         1033: 1726,\n",
              "         14497: 72,\n",
              "         636: 2638,\n",
              "         5385: 293,\n",
              "         154: 8491,\n",
              "         191: 7368,\n",
              "         12: 125285,\n",
              "         20: 108182,\n",
              "         989: 1801,\n",
              "         1606: 1119,\n",
              "         13: 118445,\n",
              "         890: 1954,\n",
              "         848: 2039,\n",
              "         208: 6604,\n",
              "         5463: 288,\n",
              "         419: 3708,\n",
              "         12953: 86,\n",
              "         6878: 211,\n",
              "         1346: 1328,\n",
              "         2878: 617,\n",
              "         3465: 497,\n",
              "         652: 2561,\n",
              "         445: 3546,\n",
              "         43: 31523,\n",
              "         3591: 479,\n",
              "         54: 24413,\n",
              "         15347: 66,\n",
              "         1555: 1154,\n",
              "         2965: 597,\n",
              "         1164: 1535,\n",
              "         88: 14151,\n",
              "         3221: 541,\n",
              "         52: 25519,\n",
              "         751: 2248,\n",
              "         522: 3129,\n",
              "         1791: 1015,\n",
              "         5805: 265,\n",
              "         5128: 311,\n",
              "         14: 116710,\n",
              "         2654: 677,\n",
              "         29372: 22,\n",
              "         966: 1843,\n",
              "         1334: 1338,\n",
              "         518: 3136,\n",
              "         308: 4731,\n",
              "         159: 8304,\n",
              "         512: 3207,\n",
              "         805: 2108,\n",
              "         1258: 1420,\n",
              "         218: 6384,\n",
              "         1037: 1720,\n",
              "         1391: 1288,\n",
              "         908: 1934,\n",
              "         442: 3570,\n",
              "         73: 17377,\n",
              "         2913: 610,\n",
              "         4319: 382,\n",
              "         2518: 714,\n",
              "         498: 3303,\n",
              "         727: 2308,\n",
              "         10638: 115,\n",
              "         18741: 48,\n",
              "         762: 2217,\n",
              "         986: 1806,\n",
              "         177: 7682,\n",
              "         740: 2272,\n",
              "         3272: 531,\n",
              "         2025: 901,\n",
              "         222: 6238,\n",
              "         2985: 592,\n",
              "         1021: 1743,\n",
              "         302: 4813,\n",
              "         647: 2593,\n",
              "         347: 4270,\n",
              "         112: 11399,\n",
              "         311: 4724,\n",
              "         79: 15122,\n",
              "         3567: 483,\n",
              "         2158: 845,\n",
              "         1589: 1129,\n",
              "         67: 19206,\n",
              "         621: 2709,\n",
              "         2749: 648,\n",
              "         26185: 27,\n",
              "         15643: 64,\n",
              "         10464: 118,\n",
              "         199: 7034,\n",
              "         1460: 1227,\n",
              "         1045: 1711,\n",
              "         2581: 697,\n",
              "         244: 5758,\n",
              "         389: 3947,\n",
              "         152: 8659,\n",
              "         147: 8861,\n",
              "         4579: 355,\n",
              "         20847: 40,\n",
              "         9216: 141,\n",
              "         940: 1888,\n",
              "         1974: 919,\n",
              "         1728: 1043,\n",
              "         5213: 304,\n",
              "         143: 9133,\n",
              "         9711: 131,\n",
              "         5825: 264,\n",
              "         50095: 8,\n",
              "         66: 19463,\n",
              "         61: 20623,\n",
              "         175: 7763,\n",
              "         118: 10629,\n",
              "         684: 2454,\n",
              "         1145: 1559,\n",
              "         123: 10371,\n",
              "         13042: 85,\n",
              "         5567: 280,\n",
              "         369: 4105,\n",
              "         4106: 404,\n",
              "         1797: 1011,\n",
              "         5464: 288,\n",
              "         71: 17581,\n",
              "         608: 2745,\n",
              "         183: 7522,\n",
              "         184: 7488,\n",
              "         6187: 243,\n",
              "         9033: 145,\n",
              "         7183: 199,\n",
              "         33800: 17,\n",
              "         363: 4127,\n",
              "         391: 3919,\n",
              "         42433: 11,\n",
              "         2068: 878,\n",
              "         9929: 127,\n",
              "         501: 3277,\n",
              "         3235: 539,\n",
              "         10270: 121,\n",
              "         3244: 537,\n",
              "         9606: 133,\n",
              "         9: 192644,\n",
              "         15: 115789,\n",
              "         10855: 112,\n",
              "         5856: 262,\n",
              "         5435: 290,\n",
              "         2410: 750,\n",
              "         3084: 571,\n",
              "         617: 2722,\n",
              "         7406: 191,\n",
              "         57: 23770,\n",
              "         5098: 313,\n",
              "         1335: 1337,\n",
              "         288: 5013,\n",
              "         80: 14935,\n",
              "         17195: 55,\n",
              "         148: 8822,\n",
              "         1182: 1509,\n",
              "         1216: 1466,\n",
              "         7513: 187,\n",
              "         439: 3581,\n",
              "         1891: 962,\n",
              "         1130: 1580,\n",
              "         7429: 190,\n",
              "         18742: 48,\n",
              "         1506: 1188,\n",
              "         5761: 268,\n",
              "         15201: 67,\n",
              "         253: 5582,\n",
              "         556: 2935,\n",
              "         5620: 276,\n",
              "         1162: 1538,\n",
              "         16457: 59,\n",
              "         676: 2470,\n",
              "         1590: 1129,\n",
              "         44612: 10,\n",
              "         16632: 58,\n",
              "         1707: 1057,\n",
              "         162: 8206,\n",
              "         3137: 562,\n",
              "         6526: 226,\n",
              "         463: 3443,\n",
              "         134: 9591,\n",
              "         3413: 505,\n",
              "         1822: 999,\n",
              "         72: 17516,\n",
              "         12452: 91,\n",
              "         2663: 674,\n",
              "         538: 3044,\n",
              "         532: 3069,\n",
              "         663: 2525,\n",
              "         7089: 203,\n",
              "         2061: 882,\n",
              "         140: 9375,\n",
              "         4543: 360,\n",
              "         2522: 713,\n",
              "         967: 1843,\n",
              "         6284: 238,\n",
              "         4690: 345,\n",
              "         1098: 1622,\n",
              "         2113: 858,\n",
              "         1618: 1112,\n",
              "         30108: 21,\n",
              "         552: 2964,\n",
              "         606: 2748,\n",
              "         3381: 510,\n",
              "         7293: 195,\n",
              "         1065: 1680,\n",
              "         2126: 855,\n",
              "         944: 1881,\n",
              "         110: 11536,\n",
              "         724: 2319,\n",
              "         2571: 699,\n",
              "         91: 13296,\n",
              "         8599: 155,\n",
              "         1708: 1055,\n",
              "         6227: 241,\n",
              "         6075: 250,\n",
              "         638: 2632,\n",
              "         414: 3734,\n",
              "         21466: 38,\n",
              "         510: 3213,\n",
              "         26186: 27,\n",
              "         24173: 31,\n",
              "         2357: 765,\n",
              "         5326: 297,\n",
              "         9217: 141,\n",
              "         4085: 407,\n",
              "         193: 7262,\n",
              "         6777: 215,\n",
              "         18966: 47,\n",
              "         6145: 246,\n",
              "         1547: 1159,\n",
              "         659: 2537,\n",
              "         9658: 132,\n",
              "         1673: 1078,\n",
              "         85: 14494,\n",
              "         241: 5806,\n",
              "         1893: 961,\n",
              "         6778: 215,\n",
              "         230: 6056,\n",
              "         6692: 219,\n",
              "         158: 8312,\n",
              "         1112: 1605,\n",
              "         2770: 641,\n",
              "         2980: 593,\n",
              "         801: 2114,\n",
              "         1230: 1450,\n",
              "         668: 2493,\n",
              "         10920: 111,\n",
              "         481: 3401,\n",
              "         8940: 147,\n",
              "         421: 3698,\n",
              "         56: 23997,\n",
              "         32814: 18,\n",
              "         1856: 978,\n",
              "         60: 21125,\n",
              "         1231: 1450,\n",
              "         42434: 11,\n",
              "         62: 20484,\n",
              "         3280: 529,\n",
              "         4681: 346,\n",
              "         32815: 18,\n",
              "         1298: 1375,\n",
              "         77: 15737,\n",
              "         2278: 794,\n",
              "         210: 6576,\n",
              "         8285: 163,\n",
              "         405: 3771,\n",
              "         872: 1994,\n",
              "         11426: 104,\n",
              "         2707: 660,\n",
              "         2750: 648,\n",
              "         18035: 51,\n",
              "         2575: 698,\n",
              "         16458: 59,\n",
              "         3222: 541,\n",
              "         1253: 1426,\n",
              "         8802: 150,\n",
              "         4905: 328,\n",
              "         87: 14420,\n",
              "         4983: 323,\n",
              "         201: 6943,\n",
              "         1509: 1183,\n",
              "         1250: 1430,\n",
              "         196: 7113,\n",
              "         1868: 974,\n",
              "         3339: 519,\n",
              "         2238: 813,\n",
              "         528: 3102,\n",
              "         1900: 958,\n",
              "         11644: 101,\n",
              "         945: 1880,\n",
              "         92: 12987,\n",
              "         3079: 573,\n",
              "         847: 2041,\n",
              "         11907: 98,\n",
              "         969: 1841,\n",
              "         4368: 377,\n",
              "         1486: 1203,\n",
              "         4622: 351,\n",
              "         3648: 469,\n",
              "         28629: 23,\n",
              "         941: 1887,\n",
              "         105: 11755,\n",
              "         19495: 45,\n",
              "         818: 2098,\n",
              "         725: 2313,\n",
              "         2853: 622,\n",
              "         21149: 39,\n",
              "         8400: 160,\n",
              "         1117: 1601,\n",
              "         1740: 1036,\n",
              "         4045: 412,\n",
              "         1903: 956,\n",
              "         6158: 245,\n",
              "         2369: 761,\n",
              "         785: 2159,\n",
              "         74: 17236,\n",
              "         397: 3855,\n",
              "         1320: 1353,\n",
              "         5476: 287,\n",
              "         10572: 116,\n",
              "         1887: 964,\n",
              "         3536: 487,\n",
              "         68: 19115,\n",
              "         543: 3027,\n",
              "         1421: 1256,\n",
              "         250: 5652,\n",
              "         1539: 1163,\n",
              "         1392: 1286,\n",
              "         399: 3831,\n",
              "         240: 5843,\n",
              "         11816: 99,\n",
              "         9659: 132,\n",
              "         3037: 581,\n",
              "         4682: 346,\n",
              "         1311: 1362,\n",
              "         7866: 176,\n",
              "         1964: 923,\n",
              "         988: 1802,\n",
              "         7484: 188,\n",
              "         4392: 375,\n",
              "         1987: 913,\n",
              "         1159: 1544,\n",
              "         1766: 1024,\n",
              "         211: 6531,\n",
              "         8199: 166,\n",
              "         10989: 110,\n",
              "         897: 1944,\n",
              "         30109: 21,\n",
              "         5542: 282,\n",
              "         28630: 23,\n",
              "         579: 2819,\n",
              "         797: 2119,\n",
              "         4053: 411,\n",
              "         3499: 492,\n",
              "         47134: 9,\n",
              "         546: 3011,\n",
              "         30110: 21,\n",
              "         6799: 214,\n",
              "         706: 2376,\n",
              "         13258: 83,\n",
              "         10784: 113,\n",
              "         142: 9168,\n",
              "         2301: 784,\n",
              "         7772: 179,\n",
              "         3281: 529,\n",
              "         135: 9539,\n",
              "         36074: 15,\n",
              "         2261: 803,\n",
              "         8401: 160,\n",
              "         4383: 376,\n",
              "         13360: 82,\n",
              "         3568: 483,\n",
              "         13259: 83,\n",
              "         1666: 1082,\n",
              "         3774: 448,\n",
              "         2602: 691,\n",
              "         157: 8337,\n",
              "         2868: 619,\n",
              "         1189: 1496,\n",
              "         6976: 207,\n",
              "         15813: 63,\n",
              "         38934: 13,\n",
              "         5099: 313,\n",
              "         11497: 103,\n",
              "         328: 4471,\n",
              "         3167: 554,\n",
              "         10042: 125,\n",
              "         2666: 673,\n",
              "         366: 4118,\n",
              "         1522: 1175,\n",
              "         4332: 381,\n",
              "         326: 4483,\n",
              "         1664: 1084,\n",
              "         30111: 21,\n",
              "         10088: 124,\n",
              "         9825: 129,\n",
              "         15348: 66,\n",
              "         17626: 53,\n",
              "         588: 2795,\n",
              "         13043: 85,\n",
              "         3174: 553,\n",
              "         82: 14696,\n",
              "         299: 4898,\n",
              "         1171: 1525,\n",
              "         2788: 636,\n",
              "         696: 2397,\n",
              "         13260: 83,\n",
              "         3500: 492,\n",
              "         17412: 54,\n",
              "         4061: 410,\n",
              "         8984: 146,\n",
              "         5349: 295,\n",
              "         44613: 10,\n",
              "         38935: 13,\n",
              "         1176: 1518,\n",
              "         7890: 175,\n",
              "         305: 4776,\n",
              "         5350: 295,\n",
              "         132: 9774,\n",
              "         8233: 165,\n",
              "         17837: 52,\n",
              "         1757: 1026,\n",
              "         13794: 78,\n",
              "         23330: 33,\n",
              "         3371: 512,\n",
              "         11645: 101,\n",
              "         561: 2914,\n",
              "         2224: 818,\n",
              "         342: 4347,\n",
              "         961: 1854,\n",
              "         14498: 72,\n",
              "         20848: 40,\n",
              "         1857: 978,\n",
              "         411: 3755,\n",
              "         335: 4429,\n",
              "         1393: 1285,\n",
              "         1945: 931,\n",
              "         1027: 1736,\n",
              "         717: 2349,\n",
              "         24623: 30,\n",
              "         3626: 473,\n",
              "         7324: 194,\n",
              "         1023: 1742,\n",
              "         1466: 1224,\n",
              "         5642: 275,\n",
              "         1166: 1533,\n",
              "         2529: 711,\n",
              "         885: 1959,\n",
              "         30964: 20,\n",
              "         219: 6362,\n",
              "         10921: 111,\n",
              "         13044: 85,\n",
              "         3991: 419,\n",
              "         25097: 29,\n",
              "         15814: 63,\n",
              "         149: 8773,\n",
              "         156: 8372,\n",
              "         21793: 37,\n",
              "         2869: 619,\n",
              "         4613: 352,\n",
              "         635: 2644,\n",
              "         13674: 79,\n",
              "         715: 2356,\n",
              "         2241: 812,\n",
              "         2545: 706,\n",
              "         26187: 27,\n",
              "         466: 3438,\n",
              "         653: 2554,\n",
              "         1294: 1380,\n",
              "         808: 2105,\n",
              "         803: 2109,\n",
              "         900: 1941,\n",
              "         70: 17949,\n",
              "         38936: 13,\n",
              "         737: 2282,\n",
              "         15504: 65,\n",
              "         29373: 22,\n",
              "         2120: 856,\n",
              "         16266: 60,\n",
              "         16820: 57,\n",
              "         251: 5634,\n",
              "         314: 4686,\n",
              "         3615: 475,\n",
              "         2635: 683,\n",
              "         1009: 1757,\n",
              "         1739: 1037,\n",
              "         37430: 14,\n",
              "         1615: 1114,\n",
              "         15505: 65,\n",
              "         6931: 209,\n",
              "         960: 1856,\n",
              "         1510: 1183,\n",
              "         3637: 471,\n",
              "         571: 2852,\n",
              "         589: 2795,\n",
              "         1592: 1128,\n",
              "         206: 6690,\n",
              "         1271: 1405,\n",
              "         4320: 382,\n",
              "         887: 1958,\n",
              "         3203: 546,\n",
              "         623: 2699,\n",
              "         1172: 1523,\n",
              "         265: 5248,\n",
              "         20564: 41,\n",
              "         841: 2052,\n",
              "         50096: 8,\n",
              "         10208: 122,\n",
              "         2242: 812,\n",
              "         146: 8904,\n",
              "         821: 2090,\n",
              "         2356: 766,\n",
              "         339: 4386,\n",
              "         441: 3572,\n",
              "         422: 3691,\n",
              "         131: 9854,\n",
              "         11498: 103,\n",
              "         16821: 57,\n",
              "         18967: 47,\n",
              "         661: 2527,\n",
              "         1568: 1145,\n",
              "         2857: 621,\n",
              "         500: 3290,\n",
              "         1239: 1443,\n",
              "         5028: 319,\n",
              "         31892: 19,\n",
              "         3105: 568,\n",
              "         3890: 432,\n",
              "         2332: 773,\n",
              "         2821: 629,\n",
              "         1359: 1313,\n",
              "         2530: 711,\n",
              "         1272: 1404,\n",
              "         1770: 1023,\n",
              "         972: 1830,\n",
              "         915: 1921,\n",
              "         404: 3772,\n",
              "         5840: 263,\n",
              "         357: 4198,\n",
              "         903: 1938,\n",
              "         2200: 829,\n",
              "         2858: 621,\n",
              "         920: 1914,\n",
              "         10713: 114,\n",
              "         2006: 907,\n",
              "         531: 3079,\n",
              "         2474: 729,\n",
              "         18036: 51,\n",
              "         1451: 1236,\n",
              "         3436: 501,\n",
              "         1296: 1376,\n",
              "         5515: 284,\n",
              "         1379: 1295,\n",
              "         128: 10096,\n",
              "         650: 2574,\n",
              "         11968: 97,\n",
              "         1733: 1041,\n",
              "         13564: 80,\n",
              "         14778: 70,\n",
              "         18743: 48,\n",
              "         554: 2961,\n",
              "         18497: 49,\n",
              "         1048: 1705,\n",
              "         312: 4721,\n",
              "         4127: 402,\n",
              "         8849: 149,\n",
              "         595: 2771,\n",
              "         547: 3009,\n",
              "         1448: 1239,\n",
              "         2509: 717,\n",
              "         8441: 159,\n",
              "         2478: 727,\n",
              "         719: 2343,\n",
              "         1297: 1376,\n",
              "         225: 6184,\n",
              "         1533: 1168,\n",
              "         1255: 1425,\n",
              "         9712: 131,\n",
              "         42435: 11,\n",
              "         286: 5070,\n",
              "         748: 2251,\n",
              "         5841: 263,\n",
              "         2944: 603,\n",
              "         2485: 726,\n",
              "         8803: 150,\n",
              "         4509: 363,\n",
              "         8717: 152,\n",
              "         8200: 166,\n",
              "         336: 4418,\n",
              "         280: 5108,\n",
              "         26188: 27,\n",
              "         50097: 8,\n",
              "         4955: 324,\n",
              "         1716: 1050,\n",
              "         2815: 631,\n",
              "         161: 8209,\n",
              "         44614: 10,\n",
              "         1142: 1563,\n",
              "         738: 2278,\n",
              "         7994: 172,\n",
              "         4764: 338,\n",
              "         1487: 1202,\n",
              "         2127: 855,\n",
              "         3501: 492,\n",
              "         11577: 102,\n",
              "         14259: 74,\n",
              "         273: 5196,\n",
              "         114: 11285,\n",
              "         7927: 174,\n",
              "         3690: 462,\n",
              "         1472: 1220,\n",
              "         593: 2775,\n",
              "         1507: 1187,\n",
              "         1328: 1347,\n",
              "         1439: 1243,\n",
              "         1694: 1065,\n",
              "         5144: 309,\n",
              "         5806: 265,\n",
              "         781: 2164,\n",
              "         2075: 876,\n",
              "         806: 2108,\n",
              "         1777: 1020,\n",
              "         5746: 269,\n",
              "         2348: 769,\n",
              "         291: 5004,\n",
              "         44615: 10,\n",
              "         572: 2852,\n",
              "         882: 1971,\n",
              "         1054: 1699,\n",
              "         188: 7417,\n",
              "         14623: 71,\n",
              "         3710: 458,\n",
              "         1261: 1415,\n",
              "         1690: 1067,\n",
              "         472: 3429,\n",
              "         26752: 26,\n",
              "         2800: 635,\n",
              "         14023: 76,\n",
              "         2889: 614,\n",
              "         6471: 229,\n",
              "         3730: 454,\n",
              "         3056: 577,\n",
              "         16267: 60,\n",
              "         711: 2362,\n",
              "         192: 7328,\n",
              "         502: 3276,\n",
              "         7514: 187,\n",
              "         81: 14916,\n",
              "         10089: 124,\n",
              "         473: 3428,\n",
              "         1783: 1017,\n",
              "         5436: 290,\n",
              "         5100: 313,\n",
              "         6729: 217,\n",
              "         2057: 884,\n",
              "         18744: 48,\n",
              "         3113: 567,\n",
              "         5543: 282,\n",
              "         4956: 324,\n",
              "         1074: 1661,\n",
              "         574: 2843,\n",
              "         3200: 547,\n",
              "         928: 1903,\n",
              "         6977: 207,\n",
              "         234: 5967,\n",
              "         14921: 69,\n",
              "         19496: 45,\n",
              "         3446: 499,\n",
              "         380: 3985,\n",
              "         176: 7698,\n",
              "         4744: 340,\n",
              "         1977: 918,\n",
              "         11065: 109,\n",
              "         3057: 577,\n",
              "         541: 3037,\n",
              "         5145: 309,\n",
              "         172: 7797,\n",
              "         324: 4528,\n",
              "         166: 7933,\n",
              "         113: 11323,\n",
              "         553: 2963,\n",
              "         30112: 21,\n",
              "         2168: 842,\n",
              "         20849: 40,\n",
              "         37431: 14,\n",
              "         629: 2681,\n",
              "         1409: 1264,\n",
              "         867: 2009,\n",
              "         689: 2439,\n",
              "         12646: 89,\n",
              "         909: 1930,\n",
              "         926: 1904,\n",
              "         1930: 941,\n",
              "         3262: 533,\n",
              "         44616: 10,\n",
              "         2029: 899,\n",
              "         743: 2266,\n",
              "         947: 1871,\n",
              "         1642: 1098,\n",
              "         1916: 951,\n",
              "         281: 5105,\n",
              "         810: 2102,\n",
              "         5146: 309,\n",
              "         1649: 1093,\n",
              "         10271: 121,\n",
              "         6172: 244,\n",
              "         1413: 1261,\n",
              "         ...})"
            ]
          },
          "metadata": {
            "tags": []
          },
          "execution_count": 36
        }
      ]
    },
    {
      "cell_type": "code",
      "metadata": {
        "id": "57419upe3gbx",
        "colab_type": "code",
        "outputId": "c7a6232c-3485-426e-f721-829b31ed8069",
        "colab": {
          "base_uri": "https://localhost:8080/",
          "height": 35
        }
      },
      "source": [
        "len(wordindex_counts)"
      ],
      "execution_count": 0,
      "outputs": [
        {
          "output_type": "execute_result",
          "data": {
            "text/plain": [
              "53721"
            ]
          },
          "metadata": {
            "tags": []
          },
          "execution_count": 37
        }
      ]
    },
    {
      "cell_type": "code",
      "metadata": {
        "id": "k6PrrQQwn8_O",
        "colab_type": "code",
        "colab": {}
      },
      "source": [
        "freq={word:count/total_counts for word,count in wordindex_counts.items()}  #dictionary of index :probability"
      ],
      "execution_count": 0,
      "outputs": []
    },
    {
      "cell_type": "code",
      "metadata": {
        "id": "ugicEtmqoSgs",
        "colab_type": "code",
        "colab": {}
      },
      "source": [
        "p_drop={w:1-np.sqrt(thresh/freq[w]) for w in freq}"
      ],
      "execution_count": 0,
      "outputs": []
    },
    {
      "cell_type": "code",
      "metadata": {
        "id": "pA_MggWH5GZR",
        "colab_type": "code",
        "colab": {}
      },
      "source": [
        "c1freq={word:count/total_counts for word,count in c1.items()}  \n",
        "cp1_drop={w:1-np.sqrt(thresh/c1freq[w]) for w in c1freq}"
      ],
      "execution_count": 0,
      "outputs": []
    },
    {
      "cell_type": "code",
      "metadata": {
        "id": "6wzgZhpr8ZRp",
        "colab_type": "code",
        "colab": {}
      },
      "source": [
        "sorted(cp1_drop.items(),key=lambda x:x[1],reverse=True)[:700]"
      ],
      "execution_count": 0,
      "outputs": []
    },
    {
      "cell_type": "code",
      "metadata": {
        "id": "-loNe3n7oZM1",
        "colab_type": "code",
        "colab": {}
      },
      "source": [
        "for i in range(5):\n",
        "  print(p_drop[i])   # As we can see for high freq words probability of drop is really high"
      ],
      "execution_count": 0,
      "outputs": []
    },
    {
      "cell_type": "code",
      "metadata": {
        "id": "dCQvcSOTUaug",
        "colab_type": "code",
        "colab": {}
      },
      "source": [
        "len(p_drop)  #dictionary of word : probability"
      ],
      "execution_count": 0,
      "outputs": []
    },
    {
      "cell_type": "code",
      "metadata": {
        "id": "4iN-PDABi09p",
        "colab_type": "code",
        "colab": {}
      },
      "source": [
        "len(index_corpus)"
      ],
      "execution_count": 0,
      "outputs": []
    },
    {
      "cell_type": "code",
      "metadata": {
        "id": "KKtuqA_Ko9qc",
        "colab_type": "code",
        "colab": {}
      },
      "source": [
        "train_words=[w for w in index_corpus if p_drop[w]< 0.6] #remember to preserve the order of words during the whole context\n",
        "\n",
        "#period is taken as a token too\n",
        "#probability is a hyperparameter   # 0.6 value should be taken by watching dictionary of words based on pdrop and judging the stop words"
      ],
      "execution_count": 0,
      "outputs": []
    },
    {
      "cell_type": "code",
      "metadata": {
        "id": "aw9dszdTpXO8",
        "colab_type": "code",
        "colab": {}
      },
      "source": [
        "len(train_words)   # for removing the stop words  we got from 16 million to 7 million"
      ],
      "execution_count": 0,
      "outputs": []
    },
    {
      "cell_type": "code",
      "metadata": {
        "id": "qKcAl6bS6765",
        "colab_type": "code",
        "colab": {}
      },
      "source": [
        "[index2word[i] for i in train_words[:100]]"
      ],
      "execution_count": 0,
      "outputs": []
    },
    {
      "cell_type": "code",
      "metadata": {
        "id": "8DhwjQMXpmdN",
        "colab_type": "code",
        "colab": {}
      },
      "source": [
        "[index2word[i] for i in index_corpus[:150]]"
      ],
      "execution_count": 0,
      "outputs": []
    },
    {
      "cell_type": "code",
      "metadata": {
        "id": "u-hlx7KZV2XF",
        "colab_type": "code",
        "colab": {}
      },
      "source": [
        "def skipG_set_generation(batch,batch_index,word_window):\n",
        "  \n",
        "  random=word_window\n",
        "  #print(random)\n",
        "  if int((batch_index-random))> 0:\n",
        "    wordstart=batch_index-random\n",
        "  else:\n",
        "    wordstart=0\n",
        "  \n",
        "  if int(batch_index+random) < len(batch):\n",
        "    wordstop=batch_index+random\n",
        "  else:\n",
        "    wordstop=len(batch)-1\n",
        "  \n",
        "  window_target=set(batch[wordstart:batch_index]+batch[batch_index+1:wordstop+1])\n",
        "  return list(window_target)\n"
      ],
      "execution_count": 0,
      "outputs": []
    },
    {
      "cell_type": "code",
      "metadata": {
        "id": "gFG5FiKjelVK",
        "colab_type": "code",
        "colab": {}
      },
      "source": [
        "text='my name is puneet wassup what are your name'.split(\" \")\n",
        "\n"
      ],
      "execution_count": 0,
      "outputs": []
    },
    {
      "cell_type": "code",
      "metadata": {
        "id": "erTyFzczf3ob",
        "colab_type": "code",
        "colab": {}
      },
      "source": [
        "skipG_set_generation(text,4,4)"
      ],
      "execution_count": 0,
      "outputs": []
    },
    {
      "cell_type": "code",
      "metadata": {
        "id": "MsdmXywe3-OB",
        "colab_type": "code",
        "colab": {}
      },
      "source": [
        "shortlisted_words[:30]"
      ],
      "execution_count": 0,
      "outputs": []
    },
    {
      "cell_type": "code",
      "metadata": {
        "id": "dfOaORWhJbTR",
        "colab_type": "code",
        "colab": {}
      },
      "source": [
        "train_words[:100]"
      ],
      "execution_count": 0,
      "outputs": []
    },
    {
      "cell_type": "code",
      "metadata": {
        "id": "2e0LI7AHV3cF",
        "colab_type": "code",
        "colab": {}
      },
      "source": [
        "#Train data generation\n",
        "def skipg_batch_creation(shortwords,batchlength,wordwindow):\n",
        "  batchcount=len(shortwords)//batchlength\n",
        "  shortwords=shortwords[:batchcount*batchlength]\n",
        "  for wordindex in range(0,len(shortwords),batchlength):\n",
        "    inputwords=[]\n",
        "    labelwords=[]\n",
        "    wordbatch=shortwords[wordindex:wordindex+batchlength]\n",
        "    for index in range(len(wordbatch)):\n",
        "      batch_input=wordbatch[index]\n",
        "      batchlabel=skipG_set_generation(wordbatch,index,wordwindow)\n",
        "      labelwords.extend(batchlabel)\n",
        "      inputwords.extend([batch_input]*len(batchlabel))\n",
        "      yield inputwords,labelwords"
      ],
      "execution_count": 0,
      "outputs": []
    },
    {
      "cell_type": "code",
      "metadata": {
        "id": "AyUKsNXKnwJ4",
        "colab_type": "code",
        "colab": {}
      },
      "source": [
        "a=skipg_batch_creation(train_words,10,2)"
      ],
      "execution_count": 0,
      "outputs": []
    },
    {
      "cell_type": "code",
      "metadata": {
        "id": "obaaG1HqrjZv",
        "colab_type": "code",
        "colab": {}
      },
      "source": [
        "x,y=next(a)"
      ],
      "execution_count": 0,
      "outputs": []
    },
    {
      "cell_type": "code",
      "metadata": {
        "id": "3ntqjoFur5iX",
        "colab_type": "code",
        "colab": {}
      },
      "source": [
        "x"
      ],
      "execution_count": 0,
      "outputs": []
    },
    {
      "cell_type": "code",
      "metadata": {
        "id": "lSEsQiORr7v3",
        "colab_type": "code",
        "colab": {}
      },
      "source": [
        "y"
      ],
      "execution_count": 0,
      "outputs": []
    },
    {
      "cell_type": "code",
      "metadata": {
        "id": "BYv95N3b-Zfq",
        "colab_type": "code",
        "colab": {}
      },
      "source": [
        "input=tf.placeholder(tf.int32,[None])\n",
        "label=tf.placeholder(tf.int32,[None,None])\n",
        "word_embed=tf.Variable(tf.random_uniform((len(index2word),300),-1.0,1.0))\n",
        "embedding=tf.nn.embedding_lookup(word_embed,input)"
      ],
      "execution_count": 0,
      "outputs": []
    },
    {
      "cell_type": "code",
      "metadata": {
        "id": "psXRESY-PAg-",
        "colab_type": "code",
        "colab": {}
      },
      "source": [
        "vocab_size=len(index2word)    "
      ],
      "execution_count": 0,
      "outputs": []
    },
    {
      "cell_type": "code",
      "metadata": {
        "id": "mV-IndjUtEpn",
        "colab_type": "code",
        "colab": {}
      },
      "source": [
        "vocab_size  # total number of unique words  or total number of different classes"
      ],
      "execution_count": 0,
      "outputs": []
    },
    {
      "cell_type": "code",
      "metadata": {
        "id": "1wwrkLV9Ed8L",
        "colab_type": "code",
        "colab": {}
      },
      "source": [
        "W1=tf.Variable(tf.truncated_normal((vocab_size,300),stddev=0.1))   # shd be of shape nclasses X dims\n",
        "b1=tf.Variable(tf.zeros(vocab_size))"
      ],
      "execution_count": 0,
      "outputs": []
    },
    {
      "cell_type": "code",
      "metadata": {
        "id": "uHshu40gPu7f",
        "colab_type": "code",
        "colab": {}
      },
      "source": [
        "#  https://arxiv.org/pdf/1412.2007v2.pdf    very important paper to learn about sampled softmax which is the taking care of long softmax problem to scale up the model"
      ],
      "execution_count": 0,
      "outputs": []
    },
    {
      "cell_type": "code",
      "metadata": {
        "id": "sUI4IvtWdy5R",
        "colab_type": "code",
        "colab": {}
      },
      "source": [
        "# https://www.tensorflow.org/extras/candidate_sampling.pdf\n",
        "\n",
        "# http://ruder.io/word-embeddings-softmax/index.html#negativesampling  important link for various softmax incase vocabsize is really big"
      ],
      "execution_count": 0,
      "outputs": []
    },
    {
      "cell_type": "code",
      "metadata": {
        "id": "A-GpbuuNrvCE",
        "colab_type": "code",
        "colab": {}
      },
      "source": [
        "loss_fn=tf.nn.sampled_softmax_loss(weights=W1,biases=b1,labels=label,inputs=embedding,num_sampled=100,num_classes=vocab_size)"
      ],
      "execution_count": 0,
      "outputs": []
    },
    {
      "cell_type": "code",
      "metadata": {
        "id": "Q0aD3yHBWbio",
        "colab_type": "code",
        "colab": {}
      },
      "source": [
        "cost_fn=tf.reduce_mean(loss_fn)\n",
        "optim=tf.train.AdamOptimizer().minimize(cost_fn)"
      ],
      "execution_count": 0,
      "outputs": []
    },
    {
      "cell_type": "code",
      "metadata": {
        "id": "NnrKHYKsWttw",
        "colab_type": "code",
        "colab": {}
      },
      "source": [
        "val_cnt=16\n",
        "val_dict=100\n"
      ],
      "execution_count": 0,
      "outputs": []
    },
    {
      "cell_type": "code",
      "metadata": {
        "id": "VIcyo_dqXIUq",
        "colab_type": "code",
        "colab": {}
      },
      "source": [
        "epochs=2\n",
        "batchlen=100\n",
        "word_window=10\n",
        "\n",
        "with tf.Session() as s:\n",
        "  it=1\n",
        "  loss=0\n",
        "  s.run(tf.global_variables_initializer())\n",
        "  \n",
        "  for e in range(1,epochs+1):\n",
        "    batches=skipg_batch_creation(train_words,batchlen,word_window)\n",
        "    start=time.time()\n",
        "    for x,y in batches:\n",
        "      \n",
        "      trainloss,_=s.run([cost_fn,optim],feed_dict={input:np.array(x),label:np.array(y)[:,None]})\n",
        "      loss+=trainloss\n",
        "     \n",
        "      if (it)%50==0:\n",
        "        print('trainloss:-',trainloss,' and epoch is:-',e)\n",
        "      \n",
        "      it+=1\n",
        "        "
      ],
      "execution_count": 0,
      "outputs": []
    },
    {
      "cell_type": "code",
      "metadata": {
        "id": "xXh0NMVF3rc1",
        "colab_type": "code",
        "colab": {}
      },
      "source": [
        ""
      ],
      "execution_count": 0,
      "outputs": []
    },
    {
      "cell_type": "code",
      "metadata": {
        "id": "H4kMz6tF3kP_",
        "colab_type": "code",
        "colab": {}
      },
      "source": [
        ""
      ],
      "execution_count": 0,
      "outputs": []
    }
  ]
}